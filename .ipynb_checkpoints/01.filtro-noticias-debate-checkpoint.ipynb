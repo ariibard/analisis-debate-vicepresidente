{
 "cells": [
  {
   "cell_type": "markdown",
   "id": "31efad6f-2aeb-43f3-b35e-206ca3d66b2f",
   "metadata": {
    "tags": []
   },
   "source": [
    "# Filtro de noticias sobre los items del debate\n"
   ]
  },
  {
   "cell_type": "markdown",
   "id": "b67f4b19-483e-432f-8be7-a584f906f725",
   "metadata": {},
   "source": [
    "1. Traigo el excel donde elaboramos la o las bolsas"
   ]
  },
  {
   "cell_type": "code",
   "execution_count": 16,
   "id": "e7050159-9209-404a-8112-b2316a953fb1",
   "metadata": {
    "tags": []
   },
   "outputs": [
    {
     "data": {
      "text/html": [
       "<div>\n",
       "<style scoped>\n",
       "    .dataframe tbody tr th:only-of-type {\n",
       "        vertical-align: middle;\n",
       "    }\n",
       "\n",
       "    .dataframe tbody tr th {\n",
       "        vertical-align: top;\n",
       "    }\n",
       "\n",
       "    .dataframe thead th {\n",
       "        text-align: right;\n",
       "    }\n",
       "</style>\n",
       "<table border=\"1\" class=\"dataframe\">\n",
       "  <thead>\n",
       "    <tr style=\"text-align: right;\">\n",
       "      <th></th>\n",
       "      <th>bolsa</th>\n",
       "      <th>topico</th>\n",
       "      <th>palabras</th>\n",
       "    </tr>\n",
       "  </thead>\n",
       "  <tbody>\n",
       "    <tr>\n",
       "      <th>0</th>\n",
       "      <td>1.0</td>\n",
       "      <td>economía, inflación y trabajo</td>\n",
       "      <td>ajuste</td>\n",
       "    </tr>\n",
       "    <tr>\n",
       "      <th>1</th>\n",
       "      <td>1.0</td>\n",
       "      <td>economía, inflación y trabajo</td>\n",
       "      <td>banco</td>\n",
       "    </tr>\n",
       "    <tr>\n",
       "      <th>2</th>\n",
       "      <td>1.0</td>\n",
       "      <td>economía, inflación y trabajo</td>\n",
       "      <td>cambio</td>\n",
       "    </tr>\n",
       "    <tr>\n",
       "      <th>3</th>\n",
       "      <td>1.0</td>\n",
       "      <td>economía, inflación y trabajo</td>\n",
       "      <td>cargas</td>\n",
       "    </tr>\n",
       "    <tr>\n",
       "      <th>4</th>\n",
       "      <td>1.0</td>\n",
       "      <td>economía, inflación y trabajo</td>\n",
       "      <td>deficit</td>\n",
       "    </tr>\n",
       "  </tbody>\n",
       "</table>\n",
       "</div>"
      ],
      "text/plain": [
       "   bolsa                         topico palabras\n",
       "0    1.0  economía, inflación y trabajo   ajuste\n",
       "1    1.0  economía, inflación y trabajo   banco \n",
       "2    1.0  economía, inflación y trabajo   cambio\n",
       "3    1.0  economía, inflación y trabajo   cargas\n",
       "4    1.0  economía, inflación y trabajo  deficit"
      ]
     },
     "execution_count": 16,
     "metadata": {},
     "output_type": "execute_result"
    }
   ],
   "source": [
    "\n",
    "import spacy\n",
    "from datatable import dt, f\n",
    "import pandas as pd\n",
    "\n",
    "#Importo la libreria que creamos con la funcion que creamos\n",
    "\n",
    "from libreria import filtrados\n",
    "\n",
    "# Traigo la lista de palabras que necesito\n",
    "\n",
    "ruta = 'data/minutos.xlsx'\n",
    "hoja = 'bolsa_palabras'\n",
    "\n",
    "# Importo el excel donde armamos la lista de palabras\n",
    "bolsas = pd.read_excel(ruta, sheet_name=hoja)\n",
    "\n",
    "bolsas.head()"
   ]
  },
  {
   "cell_type": "markdown",
   "id": "8b1a29f4-c92e-41d4-aa3e-18f7f68d93ff",
   "metadata": {},
   "source": [
    "2. Creo una lista por cada bolsa"
   ]
  },
  {
   "cell_type": "code",
   "execution_count": 17,
   "id": "4229a37e-27ee-4a60-a661-b66043bd6390",
   "metadata": {
    "tags": []
   },
   "outputs": [
    {
     "name": "stdout",
     "output_type": "stream",
     "text": [
      "bolsa de política de seguridad, defensa y justicia ['arma', 'carcel', 'carceles', 'crimen', 'defensa', 'delincuentes', 'derechos', 'humanos', 'drogas', 'fuerzas', 'inseguridad', 'judicial', 'jueces', 'juez ', 'justicia', 'malvinas', 'maten ', 'militares', 'ministerio', 'muertes', 'narcotrafico', 'penal', 'policia', 'politica', 'presos', 'reforma', 'robo', 'seguridad', 'trafico', 'victimas ', 'violencia', 'armada', 'taser'] bolsa de rol del estado y conflictividad social  ['administracion', 'publica', 'caos', 'casta', 'conflictividad', 'corrupción', 'crecimiento ', 'crisis', 'derecho', 'dictadura', 'civil', 'derechos', 'humanos', 'civiles', 'educacion', 'educación', 'estado', 'estatal', 'genocidas', 'gestión ', 'gobierno', 'inclusión', 'manifestacion', 'memoria', 'ministerio', 'movilizacion', 'movimientos', 'órden', 'organizaciones ', 'paro', 'participacion', 'ciudadana', 'piquete ', 'planes ', 'politica', 'educativa', 'publica', 'sociales', 'social', 'protesta', 'represores', 'gendarmeria', 'universidades'] bolsa de economía, inflación y trabajo ['ajuste', 'banco ', 'cambio', 'cargas', 'deficit', 'deflacion', 'desempleo', 'desocupación', 'despido', 'deuda', 'dolar', 'dolarizacion', 'economia', 'empleo', 'empresarios', 'endeudar', 'esfuerzo ', 'estabilización', 'exportación', 'fiscal', 'fmi', 'formal', 'ganancias', 'hiperinflacion', 'importación', 'impuesto', 'indeminizacion', 'consumidor', 'inflacion', 'inflación ', 'informal', 'inversion', 'inversiones', 'IPC', 'IVA', 'jornada laboral', 'jubilacion', 'jublación', 'jublados', 'litio', 'ministerio', 'monotributistas', 'patronales', 'pbi', 'pensionados', 'petroleo', 'pobres ', 'pobreza', 'politica', 'economica', 'precios', 'precios', 'presupuesto', 'salario', 'salario ', 'salario minimo', 'seguridad social', 'sindicato', 'sindicatos', 'sueldo', 'tarifas', 'tasa de interés ', 'trabajar ', 'trabajo', 'trabajo']\n"
     ]
    }
   ],
   "source": [
    "# economía, inflación y trabajo\n",
    "bolsa_economia = bolsas[bolsas['bolsa'] == 1]['palabras']\n",
    "\n",
    "# rol del estado y conflictividad social \n",
    "bolsa_estado = bolsas[bolsas['bolsa'] == 2]['palabras']\n",
    "\n",
    "#política de seguridad, defensa y justicia.\n",
    "bolsa_seguridad = bolsas[bolsas['bolsa'] == 3]['palabras']\n",
    "\n",
    "# Convierte la columna palabras en una lista\n",
    "lista_bolsa_economia = bolsa_economia.tolist()\n",
    "lista_bolsa_estado = bolsa_estado.tolist()\n",
    "lista_bolsa_seguridad = bolsa_seguridad.tolist()\n",
    "\n",
    "# muestro\n",
    "\n",
    "print(\"bolsa de política de seguridad, defensa y justicia\", lista_bolsa_seguridad, \"bolsa de rol del estado y conflictividad social \",  lista_bolsa_estado, \"bolsa de economía, inflación y trabajo\", lista_bolsa_economia)"
   ]
  },
  {
   "cell_type": "markdown",
   "id": "1fee91b1-c804-4be0-b8bf-dab825be5f2b",
   "metadata": {
    "tags": []
   },
   "source": [
    "3. Utilizo la función que creamos antes para armar un corpus de noticias por cada bolsa"
   ]
  },
  {
   "cell_type": "code",
   "execution_count": 27,
   "id": "8b670d07-6442-40df-b003-09a30e56c25f",
   "metadata": {
    "tags": []
   },
   "outputs": [],
   "source": [
    "from libreria import levantar\n",
    "import pandas as pd\n",
    "df = levantar.levantar()\n",
    "\n",
    "df = pd.DataFrame(df, columns=[\"Diario\", \"Seccion\", \"Fecha\", \"Titulo\", \"Texto\"])\n",
    "\n",
    "df.to_csv('data/bases/noticias_prueba.csv')\n",
    "\n"
   ]
  },
  {
   "cell_type": "code",
   "execution_count": 31,
   "id": "12693340-d7d2-48ec-90bc-6edce03a75b0",
   "metadata": {
    "tags": []
   },
   "outputs": [
    {
     "ename": "AttributeError",
     "evalue": "'str' object has no attribute 'dropna'",
     "output_type": "error",
     "traceback": [
      "\u001b[1;31m---------------------------------------------------------------------------\u001b[0m",
      "\u001b[1;31mAttributeError\u001b[0m                            Traceback (most recent call last)",
      "\u001b[1;32m~\\AppData\\Local\\Temp\\ipykernel_6780\\2045197832.py\u001b[0m in \u001b[0;36m<module>\u001b[1;34m\u001b[0m\n\u001b[0;32m      1\u001b[0m \u001b[1;31m# Utiliza la función con la lista y el archivo CSV de noticias\u001b[0m\u001b[1;33m\u001b[0m\u001b[1;33m\u001b[0m\u001b[1;33m\u001b[0m\u001b[0m\n\u001b[1;32m----> 2\u001b[1;33m \u001b[0mdf_economia\u001b[0m \u001b[1;33m=\u001b[0m \u001b[0mfiltrados\u001b[0m\u001b[1;33m.\u001b[0m\u001b[0mfiltrar_noticias\u001b[0m\u001b[1;33m(\u001b[0m\u001b[0mlista_bolsa_economia\u001b[0m\u001b[1;33m,\u001b[0m \u001b[1;34m'noticias_prueba.csv'\u001b[0m\u001b[1;33m)\u001b[0m\u001b[1;33m\u001b[0m\u001b[1;33m\u001b[0m\u001b[0m\n\u001b[0m\u001b[0;32m      3\u001b[0m \u001b[1;33m\u001b[0m\u001b[0m\n\u001b[0;32m      4\u001b[0m \u001b[1;33m\u001b[0m\u001b[0m\n",
      "\u001b[1;32m~\\Documents\\GitHub\\01. Activos\\analisis-debate-vicepresidente\\libreria\\filtrados.py\u001b[0m in \u001b[0;36mfiltrar_noticias\u001b[1;34m(lista_terminos, notis)\u001b[0m\n\u001b[0;32m     20\u001b[0m     \u001b[1;31m# Carga el archivo CSV de noticias\u001b[0m\u001b[1;33m\u001b[0m\u001b[1;33m\u001b[0m\u001b[1;33m\u001b[0m\u001b[0m\n\u001b[0;32m     21\u001b[0m     \u001b[0mnoticias\u001b[0m \u001b[1;33m=\u001b[0m \u001b[0mdt\u001b[0m\u001b[1;33m.\u001b[0m\u001b[0mfread\u001b[0m\u001b[1;33m(\u001b[0m\u001b[0mnoticias_csv\u001b[0m\u001b[1;33m,\u001b[0m \u001b[0mheader\u001b[0m\u001b[1;33m=\u001b[0m\u001b[1;32mTrue\u001b[0m\u001b[1;33m)\u001b[0m\u001b[1;33m.\u001b[0m\u001b[0mto_pandas\u001b[0m\u001b[1;33m(\u001b[0m\u001b[1;33m)\u001b[0m\u001b[1;33m\u001b[0m\u001b[1;33m\u001b[0m\u001b[0m\n\u001b[1;32m---> 22\u001b[1;33m \u001b[1;33m\u001b[0m\u001b[0m\n\u001b[0m\u001b[0;32m     23\u001b[0m \u001b[1;33m\u001b[0m\u001b[0m\n\u001b[0;32m     24\u001b[0m     \u001b[1;31m# Contador\u001b[0m\u001b[1;33m\u001b[0m\u001b[1;33m\u001b[0m\u001b[1;33m\u001b[0m\u001b[0m\n",
      "\u001b[1;31mAttributeError\u001b[0m: 'str' object has no attribute 'dropna'"
     ]
    }
   ],
   "source": [
    "# Utiliza la función con la lista y el archivo CSV de noticias\n",
    "df_economia = filtrados.filtrar_noticias(lista_bolsa_economia, 'noticias_prueba.csv')\n",
    "\n",
    "\n"
   ]
  },
  {
   "cell_type": "code",
   "execution_count": null,
   "id": "8335e66e-3d3c-4e51-a7d4-3752184c8059",
   "metadata": {},
   "outputs": [],
   "source": [
    "df_estado = filtrar_noticias(lista_bolsa_estado, 'data/bases/0-notis-0809-2023.csv')\n",
    "#df_estado.head()\n",
    "df_estado.to_csv('data/bases/01-noticias-estado.csv')\n"
   ]
  },
  {
   "cell_type": "code",
   "execution_count": null,
   "id": "a7e2a110-5305-45e5-8e4b-450f9befebfa",
   "metadata": {},
   "outputs": [],
   "source": [
    "df_seguridad = filtrar_noticias(lista_bolsa_seguridad, 'data/bases/notis-09-2023.csv')\n",
    "#df_seguridad.head()\n",
    "df_seguridad.to_csv('data/bases/01-noticias-seguridad.csv')"
   ]
  }
 ],
 "metadata": {
  "kernelspec": {
   "display_name": "Python 3 (ipykernel)",
   "language": "python",
   "name": "python3"
  },
  "language_info": {
   "codemirror_mode": {
    "name": "ipython",
    "version": 3
   },
   "file_extension": ".py",
   "mimetype": "text/x-python",
   "name": "python",
   "nbconvert_exporter": "python",
   "pygments_lexer": "ipython3",
   "version": "3.9.6"
  }
 },
 "nbformat": 4,
 "nbformat_minor": 5
}
